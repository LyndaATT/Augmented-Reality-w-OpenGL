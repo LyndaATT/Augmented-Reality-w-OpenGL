{
 "cells": [
  {
   "cell_type": "markdown",
   "metadata": {},
   "source": [
    "Import libraries"
   ]
  },
  {
   "cell_type": "code",
   "execution_count": 1,
   "metadata": {},
   "outputs": [],
   "source": [
    "from OpenGL.GL import *\n",
    "from OpenGL.GLU import *\n",
    "from OpenGL.GLUT import *\n",
    "import numpy as np\n",
    "import sys\n",
    "import time\n",
    "import math"
   ]
  },
  {
   "cell_type": "markdown",
   "metadata": {},
   "source": [
    "## 2D rendering"
   ]
  },
  {
   "cell_type": "markdown",
   "metadata": {},
   "source": [
    "Initializing settings"
   ]
  },
  {
   "cell_type": "code",
   "execution_count": 2,
   "metadata": {},
   "outputs": [],
   "source": [
    "# Some api in the chain is translating the keystrokes to this binary string\n",
    "# so instead of saying: ESCAPE = 27, we use the following.\n",
    "ESCAPE = b'\\x1b'\n",
    "\n",
    "# Number of the glut window.\n",
    "window = 0\n",
    "\n",
    "def init():\n",
    "    # Commands # 1\n",
    "    glEnable(GL_POINT_SMOOTH) # 1.1 Smooths points\n",
    "    glEnable(GL_LINE_SMOOTH)  # 1.2 Smooths the curves\n",
    "    glEnable(GL_BLEND)        # 1.3 Combines the colors computed in the fragment shader with the colors in the colors buffers\n",
    "    glBlendFunc(GL_SRC_ALPHA, GL_ONE_MINUS_SRC_ALPHA) # 1.4 defines blending factors\n",
    "    # Commands # 2\n",
    "    glClearColor(1.0, 1.0, 1.0, 1.0) # 2.1 Sets widows/background color to white\n",
    "    gluOrtho2D(-5.0, 5.0, -5.0, 5.0) # 2.2 Creates 2D orthonormal reference frame"
   ]
  },
  {
   "cell_type": "markdown",
   "metadata": {},
   "source": [
    "Function to be plotted"
   ]
  },
  {
   "cell_type": "code",
   "execution_count": 3,
   "metadata": {},
   "outputs": [],
   "source": [
    "def func_x2(input_vec):\n",
    "    vertices = [[x, x*x] for x in input_vec]\n",
    "    return np.array(vertices)"
   ]
  },
  {
   "cell_type": "code",
   "execution_count": 4,
   "metadata": {},
   "outputs": [],
   "source": [
    "#2. Modify the code to draw a second simultaneous plot of a sine function.\n",
    "def func_sin(input_vec): \n",
    "    vertices = [[x, np.sin(x)] for x in input_vec]\n",
    "    return np.array(vertices)"
   ]
  },
  {
   "cell_type": "code",
   "execution_count": 5,
   "metadata": {},
   "outputs": [],
   "source": [
    "#3. Modify the plot to draw a random white Gaussian process with zero mean and standard deviation σ = 0.1\n",
    "def func_rand_normal(input_vec):\n",
    "    vertices=[[x,np.random.normal(0, 0.1)] for x in input_vec]\n",
    "    return np.array(vertices)"
   ]
  },
  {
   "cell_type": "markdown",
   "metadata": {},
   "source": [
    "Plotting function in OpenGL"
   ]
  },
  {
   "cell_type": "code",
   "execution_count": 6,
   "metadata": {},
   "outputs": [],
   "source": [
    "def plot_func():\n",
    "    \n",
    "    # Commands # 3\n",
    "    glClear(GL_COLOR_BUFFER_BIT) # 3.1 clears z-buffer\n",
    "    glColor3f(0.0, 0.0, 0.0)     # 3.2 defines black color\n",
    "    glPointSize(3.0)             # 3.3 set point size\n",
    "    glLineWidth(1.0)             # 3.4 set width for the curves\n",
    "    \n",
    "    # Commands # 4\n",
    "    # Drawing reference frame\n",
    "    glBegin(GL_LINES)\n",
    "    glVertex2f(-5.0, 0.0)\n",
    "    glVertex2f(5.0, 0.0)\n",
    "    glVertex2f(0.0, 5.0)\n",
    "    glVertex2f(0.0, -5.0)\n",
    "    glEnd()\n",
    "    \n",
    "    # Set points to plot graphic\n",
    "    v = np.linspace(-5.0,5.0,101)\n",
    "    vertices1=func_x2(v)\n",
    "    vertices2=func_sin(v)\n",
    "    vertices3=func_rand_normal(v)\n",
    "    \n",
    "    # Adding square grid dx=dy=1\n",
    "    axe = np.linspace(-5.0,5.0,15)\n",
    "    for x in axe :\n",
    "        glBegin(GL_LINES)\n",
    "        glColor3f(0.0, 0.0, 0.0) \n",
    "        #x axis\n",
    "        glVertex2f(x, -5)\n",
    "        glVertex2f(x, 5)\n",
    "        #y axis, here x and y have the same values (i.e. [-5,5])\n",
    "        glVertex2f(-5, x)\n",
    "        glVertex2f(5, x)\n",
    "        glEnd()\n",
    "\n",
    "    # Commands # 5\n",
    "    # Connecting points to draw curves\n",
    "    for i in range(len(vertices1)-1):\n",
    "        glBegin(GL_LINES)\n",
    "        glColor3f(0.8,0.2,0.2)\n",
    "        \n",
    "        # Square function\n",
    "        glVertex2f(vertices1[i,0],vertices1[i,1])\n",
    "        glVertex2f(vertices1[i+1,0],vertices1[i+1,1])\n",
    "        \n",
    "        # Sinus function\n",
    "        glVertex2f(vertices2[i,0],vertices2[i,1])\n",
    "        glVertex2f(vertices2[i+1,0],vertices2[i+1,1])\n",
    "        \n",
    "        # Random normal function \n",
    "        glVertex2f(vertices3[i,0],vertices3[i,1])\n",
    "        glVertex2f(vertices3[i+1,0],vertices3[i+1,1])\n",
    "        \n",
    "        glEnd()\n",
    "    \n",
    "    # Commands # 6\n",
    "    # Drawing points\n",
    "    for i in range(len(vertices1)):\n",
    "        glBegin(GL_POINTS)\n",
    "        glColor3f(0.1,0.5,0.1)\n",
    "        glVertex2fv(vertices1[i])\n",
    "        glVertex2fv(vertices2[i])\n",
    "        glVertex2fv(vertices3[i])\n",
    "        glEnd()\n",
    "    \n",
    "    # Commands # 7\n",
    "    # time.sleep(...)\n",
    "    #Indicates that the computation is done with the current frame\n",
    "    #and swaps the buffer to the next one \n",
    "    glutSwapBuffers()"
   ]
  },
  {
   "cell_type": "markdown",
   "metadata": {},
   "source": [
    "Function that checks if a key has been pressed on the keyboard"
   ]
  },
  {
   "cell_type": "code",
   "execution_count": 7,
   "metadata": {},
   "outputs": [],
   "source": [
    "# The function called whenever a key is pressed. Note the use of Python tuples to pass in: (key, x, y)  \n",
    "def keyPressed(key, x, y):\n",
    "    if key == ESCAPE:\n",
    "        glutLeaveMainLoop()\n",
    "        return"
   ]
  },
  {
   "cell_type": "markdown",
   "metadata": {},
   "source": [
    "Main function with initialization, drawing and querying for external inputs (keyboard)"
   ]
  },
  {
   "cell_type": "code",
   "execution_count": 8,
   "metadata": {},
   "outputs": [],
   "source": [
    "def main():\n",
    "    global window\n",
    "    glutInit(())\n",
    "    glutInitDisplayMode(GLUT_SINGLE|GLUT_RGB)\n",
    "    glutInitWindowPosition(50,50)\n",
    "    glutInitWindowSize(500,500)\n",
    "    glutCreateWindow(b\"Function Plotter\")\n",
    "    glutDisplayFunc(plot_func)\n",
    "    # When we are doing nothing, redraw the scene.\n",
    "    glutIdleFunc(plot_func)\n",
    "    # Register the function called when the keyboard is pressed.  \n",
    "    glutKeyboardFunc(keyPressed)\n",
    "    # Initialization\n",
    "    init()\n",
    "    # Main drawing loop\n",
    "    glutMainLoop()"
   ]
  },
  {
   "cell_type": "markdown",
   "metadata": {},
   "source": [
    "Executing main function"
   ]
  },
  {
   "cell_type": "code",
   "execution_count": null,
   "metadata": {},
   "outputs": [
    {
     "name": "stdout",
     "output_type": "stream",
     "text": [
      "Hit ESC key to quit.\n"
     ]
    }
   ],
   "source": [
    "# Print message to console, and kick off the main to get it rolling.\n",
    "print(\"Hit ESC key to quit.\")\n",
    "main()"
   ]
  },
  {
   "cell_type": "markdown",
   "metadata": {},
   "source": [
    "## ECG"
   ]
  },
  {
   "cell_type": "code",
   "execution_count": 2,
   "metadata": {},
   "outputs": [],
   "source": [
    "# Load data\n",
    "ecg= np.loadtxt('ecg.txt') "
   ]
  },
  {
   "cell_type": "code",
   "execution_count": 3,
   "metadata": {},
   "outputs": [
    {
     "data": {
      "text/plain": [
       "459.0"
      ]
     },
     "execution_count": 3,
     "metadata": {},
     "output_type": "execute_result"
    }
   ],
   "source": [
    "len(ecg)\n",
    "min(ecg) - 2047\n",
    "max(ecg) - 2047"
   ]
  },
  {
   "cell_type": "code",
   "execution_count": 4,
   "metadata": {},
   "outputs": [],
   "source": [
    "\n",
    "# Number of the glut window.\n",
    "window = 0\n",
    "\n",
    "def init():\n",
    "    # Commands # 1\n",
    "    glEnable(GL_POINT_SMOOTH) # 1.1 Smooths points\n",
    "    glEnable(GL_LINE_SMOOTH)  # 1.2 Smooths the curves\n",
    "    glEnable(GL_BLEND)        # 1.3 Combines the colors computed in the fragment shader with the colors in the colors buffers\n",
    "    glBlendFunc(GL_SRC_ALPHA, GL_ONE_MINUS_SRC_ALPHA) # 1.4 defines blending factors\n",
    "    # Commands # 2\n",
    "    glClearColor(1.0, 1.0, 1.0, 1.0) # 2.1 Sets widows/background color to white\n",
    "    # amplitudes  range from −0.5 mV to 5 mV (x_axis)\n",
    "    # i.e. -500V to 500V (x_axis)\n",
    "    # amplitude from 0 to 4095 (y_axis)\n",
    "    # 0mV--->2047\n",
    "    # thus: min(ecg) --> min(ecg) - 2047 = - 60 \n",
    "    #       max(ecg) --> max(ecg) - 2047 ~ 500\n",
    "    gluOrtho2D(-500.0, 500.0,  -60, 459) # 2.2 Creates 2D orthonormal reference frame"
   ]
  },
  {
   "cell_type": "code",
   "execution_count": 5,
   "metadata": {},
   "outputs": [],
   "source": [
    "global it\n",
    "it=0\n",
    "\n",
    "def plot_func():\n",
    "    global it\n",
    "    glClear(GL_COLOR_BUFFER_BIT)\n",
    "    glColor3f(0.0, 0.0, 0.0)   \n",
    "    glPointSize(3.0)             \n",
    "    glLineWidth(1.0)            \n",
    "    \n",
    "    # square grid dx=dy=1\n",
    "    #x-axis\n",
    "    axe_x = np.linspace(-500,500,21)  #step = 0.01mV, nb of points 2047*0.01\n",
    "    for x in axe_x :\n",
    "        glBegin(GL_LINES)\n",
    "        glColor3f(0.9, 0.71, 0.75) \n",
    "        #x axis\n",
    "        glVertex2f(x, -60)\n",
    "        glVertex2f(x, 459)\n",
    "        glEnd()\n",
    "    glLineWidth(0.5)\n",
    "    \n",
    "    #y-axis\n",
    "    axe_y = np.linspace(-60,459,5) #we want a step == 0.01mv\n",
    "    for y in axe_y :\n",
    "        glBegin(GL_LINES)\n",
    "        glColor3f(0.9, 0.71, 0.75) \n",
    "        #y axis\n",
    "        glVertex2f(-500,y)\n",
    "        glVertex2f(500,y)\n",
    "        glEnd()\n",
    "    glLineWidth(0.5)\n",
    "    \n",
    "    ################################################### \n",
    "    x = -500 #end point \n",
    "    while x<500:\n",
    "        glBegin(GL_LINES)\n",
    "        glColor3f(0.9, 0.71, 0.75) \n",
    "        glVertex2f(x,-60)\n",
    "        glVertex2f(x,459)\n",
    "        glEnd()\n",
    "        x +=10 #step of 0.01mV=10V\n",
    "    \n",
    "    start_y=-60\n",
    "    while(start_y<459):\n",
    "        glBegin(GL_LINES)\n",
    "        glColor3f(0.9, 0.71, 0.75)\n",
    "        glVertex2f(-500, start_y)\n",
    "        glVertex2f(500, start_y)\n",
    "        glEnd()\n",
    "        start_y+=10\n",
    "    \n",
    "    v_ecg=(ecg-2047) #rescaling\n",
    "    vertices = []\n",
    "    for i in range(0,1000): #0 to 1khz=1000hz\n",
    "        vertices.append(v_ecg[i+it]) #adding the iterator allows to repeating and have those ECG waves\n",
    "\n",
    "    for i in range(len(vertices)-1):\n",
    "        glBegin(GL_LINES)\n",
    "        glColor3f(0.0,0.0,0.0)\n",
    "        glVertex2fv([i-500,vertices[i]])\n",
    "        glVertex2fv([i-500,vertices[i+1]])        \n",
    "        glEnd()\n",
    "        \n",
    "    it+=10\n",
    "    glutSwapBuffers()"
   ]
  },
  {
   "cell_type": "code",
   "execution_count": 6,
   "metadata": {},
   "outputs": [],
   "source": [
    "# The function called whenever a key is pressed. Note the use of Python tuples to pass in: (key, x, y)  \n",
    "def keyPressed(key, x, y):\n",
    "    if key == ESCAPE:\n",
    "        glutLeaveMainLoop()\n",
    "        return"
   ]
  },
  {
   "cell_type": "code",
   "execution_count": 7,
   "metadata": {},
   "outputs": [],
   "source": [
    "def main():\n",
    "    global window\n",
    "    glutInit(())\n",
    "    glutInitDisplayMode(GLUT_SINGLE|GLUT_RGB)\n",
    "    glutInitWindowPosition(50,50)\n",
    "    glutInitWindowSize(500,500)\n",
    "    glutCreateWindow(b\"ECG\")\n",
    "    glutDisplayFunc(plot_func)\n",
    "    # When we are doing nothing, redraw the scene.\n",
    "    glutIdleFunc(plot_func)\n",
    "    # Register the function called when the keyboard is pressed.  \n",
    "    glutKeyboardFunc(keyPressed)\n",
    "    # Initialization\n",
    "    init()\n",
    "    # Main drawing loop\n",
    "    glutMainLoop()"
   ]
  },
  {
   "cell_type": "code",
   "execution_count": null,
   "metadata": {},
   "outputs": [
    {
     "name": "stdout",
     "output_type": "stream",
     "text": [
      "Hit ESC key to quit.\n"
     ]
    }
   ],
   "source": [
    "# Print message to console, and kick off the main to get it rolling.\n",
    "print(\"Hit ESC key to quit.\")\n",
    "main()"
   ]
  },
  {
   "cell_type": "code",
   "execution_count": null,
   "metadata": {},
   "outputs": [],
   "source": []
  },
  {
   "cell_type": "code",
   "execution_count": null,
   "metadata": {},
   "outputs": [],
   "source": []
  }
 ],
 "metadata": {
  "anaconda-cloud": {},
  "kernelspec": {
   "display_name": "Python 3 (ipykernel)",
   "language": "python",
   "name": "python3"
  },
  "language_info": {
   "codemirror_mode": {
    "name": "ipython",
    "version": 3
   },
   "file_extension": ".py",
   "mimetype": "text/x-python",
   "name": "python",
   "nbconvert_exporter": "python",
   "pygments_lexer": "ipython3",
   "version": "3.9.7"
  },
  "toc": {
   "colors": {
    "hover_highlight": "#DAA520",
    "running_highlight": "#FF0000",
    "selected_highlight": "#FFD700"
   },
   "moveMenuLeft": true,
   "nav_menu": {
    "height": "12px",
    "width": "252px"
   },
   "navigate_menu": true,
   "number_sections": true,
   "sideBar": true,
   "threshold": 4,
   "toc_cell": false,
   "toc_section_display": "block",
   "toc_window_display": false,
   "widenNotebook": false
  }
 },
 "nbformat": 4,
 "nbformat_minor": 1
}
